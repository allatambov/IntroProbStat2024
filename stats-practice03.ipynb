{
 "cells": [
  {
   "cell_type": "markdown",
   "metadata": {},
   "source": [
    "# Введение в ТВиМС\n",
    "\n",
    "*Алла Тамбовцева*\n",
    "\n",
    "## Практикум 3. Проверка гипотез о доле и среднем\n",
    "\n",
    "## Часть 1: работаем с долями"
   ]
  },
  {
   "cell_type": "markdown",
   "metadata": {},
   "source": [
    "### Знакомимся с информацией, известной до исследования"
   ]
  },
  {
   "cell_type": "markdown",
   "metadata": {},
   "source": [
    "* Популярные имена в 2006-2008 годах (Москва): [ссылка](https://ru.wikipedia.org/wiki/%D0%A8%D0%B0%D0%B1%D0%BB%D0%BE%D0%BD:%D0%A1%D0%B0%D0%BC%D1%8B%D0%B5_%D0%BF%D0%BE%D0%BF%D1%83%D0%BB%D1%8F%D1%80%D0%BD%D1%8B%D0%B5_%D0%B8%D0%BC%D0%B5%D0%BD%D0%B0_%D0%B2_%D0%9C%D0%BE%D1%81%D0%BA%D0%B2%D0%B5_%D0%B2_2006-2008_%D0%B3%D0%BE%D0%B4%D0%B0%D1%85).\n",
    "\n",
    "* Остальное – нужно искать по конкретным регионам.\n",
    "\n",
    "Выберем одно популярное мужское имя и одно популярное женское имя, сохраним его в `m` и `f`:"
   ]
  },
  {
   "cell_type": "code",
   "execution_count": null,
   "metadata": {},
   "outputs": [],
   "source": [
    "# вписываем имена, не опечатываемся\n",
    "\n",
    "m = \"\"\n",
    "f = \"\""
   ]
  },
  {
   "cell_type": "markdown",
   "metadata": {},
   "source": [
    "Сформулируем гипотезы для долей: одна пара гипотез (нулевая и двусторонняя альтернативная) для доли мальчиков с популярным именем `m`, другая пара – для для доли девочек с популярным именем `f`."
   ]
  },
  {
   "cell_type": "code",
   "execution_count": null,
   "metadata": {},
   "outputs": [],
   "source": [
    "# H0:\n",
    "# H1:\n",
    "\n",
    "# H0:\n",
    "# H1:"
   ]
  },
  {
   "cell_type": "markdown",
   "metadata": {},
   "source": [
    "### Загружаем данные и проверяем гипотезы"
   ]
  },
  {
   "cell_type": "markdown",
   "metadata": {},
   "source": [
    "Импортируем библиотеку `pandas` для загрузки данных и работы с таблицами (с сокращённым названием `pd`) и модуль `stats` из библиотеки `scipy` для статистических вычислений:"
   ]
  },
  {
   "cell_type": "code",
   "execution_count": null,
   "metadata": {},
   "outputs": [],
   "source": [
    "import pandas as pd\n",
    "from scipy import stats"
   ]
  },
  {
   "cell_type": "markdown",
   "metadata": {},
   "source": [
    "Загружаем данные (скачать можно [здесь](https://github.com/allatambov/IntroProbStat2024/blob/main/names.xlsx) или с почты):"
   ]
  },
  {
   "cell_type": "code",
   "execution_count": null,
   "metadata": {},
   "outputs": [],
   "source": [
    "df = pd.read_excel(\"names.xlsx\")\n",
    "df.head() # первые несколько строк таблицы"
   ]
  },
  {
   "cell_type": "markdown",
   "metadata": {},
   "source": [
    "Посмотрим на описание данных:"
   ]
  },
  {
   "cell_type": "code",
   "execution_count": null,
   "metadata": {},
   "outputs": [],
   "source": [
    "df.describe()"
   ]
  },
  {
   "cell_type": "markdown",
   "metadata": {},
   "source": [
    "Сохраним в отдельные датафреймы (таблицы) строки, соответствующие студентам мужского и женского пола:"
   ]
  },
  {
   "cell_type": "code",
   "execution_count": null,
   "metadata": {},
   "outputs": [],
   "source": [
    "df_male = df[df[\"Пол\"] == \"мужской\"]\n",
    "df_female = df[df[\"Пол\"] == \"женский\"]"
   ]
  },
  {
   "cell_type": "code",
   "execution_count": null,
   "metadata": {},
   "outputs": [],
   "source": [
    "# первые несколько строк таблиц\n",
    "\n",
    "print(df_male.head())\n",
    "print(df_female.head())"
   ]
  },
  {
   "cell_type": "markdown",
   "metadata": {},
   "source": [
    "Зафиксируем число строк в каждой таблице – объёмы выборок, состоящих из студентов мужского и женского пола соответственно:"
   ]
  },
  {
   "cell_type": "code",
   "execution_count": null,
   "metadata": {},
   "outputs": [],
   "source": [
    "n_male = df_male.shape[0]\n",
    "n_female = df_female.shape[0]\n",
    "\n",
    "print(n_male, n_female)"
   ]
  },
  {
   "cell_type": "markdown",
   "metadata": {},
   "source": [
    "Выведем самые распространённые имена (топ-3):"
   ]
  },
  {
   "cell_type": "code",
   "execution_count": null,
   "metadata": {},
   "outputs": [],
   "source": [
    "df_male[\"Имя\"].value_counts().head(3)"
   ]
  },
  {
   "cell_type": "code",
   "execution_count": null,
   "metadata": {},
   "outputs": [],
   "source": [
    "df_female[\"Имя\"].value_counts().head(3)"
   ]
  },
  {
   "cell_type": "markdown",
   "metadata": {},
   "source": [
    "Вычислим число успехов:"
   ]
  },
  {
   "cell_type": "code",
   "execution_count": null,
   "metadata": {},
   "outputs": [],
   "source": [
    "sum_male = (df_male[\"Имя\"] == f).sum()\n",
    "sum_female = (df_male[\"Имя\"] == m).sum()\n",
    "print(sum_male, sum_female)"
   ]
  },
  {
   "cell_type": "markdown",
   "metadata": {},
   "source": [
    "Воспользуемся критерием для проверки гипотезы о равенстве доли числу – реализуется через функцию `binom_test()` из `stats`:"
   ]
  },
  {
   "cell_type": "code",
   "execution_count": null,
   "metadata": {},
   "outputs": [],
   "source": [
    "# подставьте вместо p = 0 значение из нулевой гипотезы\n",
    "# x – число успехов\n",
    "# n – число наблюдений\n",
    "\n",
    "stats.binom_test(x = sum_male, n = n_male, p = 0)\n",
    "stats.binom_test(x = sum_female, n = n_female, p = 0)"
   ]
  },
  {
   "cell_type": "markdown",
   "metadata": {},
   "source": [
    "## Часть 2: работаем со средними\n",
    "\n",
    "### Выдвигаем предположения\n",
    "\n",
    "Для оценки деятельности судей Верховного суда США (разные составы) были разработаны различные экспертные индексы оценки качества работы судьи (готовность к процессу, знакомство с законами, чёткость устных и письменных постановлений и проч). Индексы формируются на основе опроса адвокатов, их оценки по каждому из критериев усредняются, в итоге получается индекс в шкале от 1 до 10.\n",
    "\n",
    "Сформулируйте нулевую гипотезу о среднем значении индекса готовности судьи к процессу. "
   ]
  },
  {
   "cell_type": "code",
   "execution_count": null,
   "metadata": {},
   "outputs": [],
   "source": [
    "# H0:"
   ]
  },
  {
   "cell_type": "markdown",
   "metadata": {},
   "source": [
    "### Загружаем данные и проверяем гипотезы"
   ]
  },
  {
   "cell_type": "markdown",
   "metadata": {},
   "source": [
    "Оригинальное описание переменных, на английском:\n",
    "    \n",
    "* `CONT`\tNumber of contacts of lawyer with judge.\n",
    "* `INTG`\tJudicial integrity.\n",
    "* `DMNR`\tDemeanor.\n",
    "* `DILG`\tDiligence.\n",
    "* `CFMG`\tCase flow managing.\n",
    "* `DECI`\tPrompt decisions.\n",
    "* `PREP`\tPreparation for trial.\n",
    "* `FAMI`\tFamiliarity with law.\n",
    "* `ORAL`\tSound oral rulings.\n",
    "* `WRIT`\tSound written rulings.\n",
    "* `PHYS`\tPhysical ability.\n",
    "* `RTEN`\tWorthy of retention.    "
   ]
  },
  {
   "cell_type": "code",
   "execution_count": null,
   "metadata": {},
   "outputs": [],
   "source": [
    "jdata = pd.read_csv(\"https://raw.githubusercontent.com/allatambov/IntroProbStat2024/main/USJudgeRatings.csv\")\n",
    "jdata.describe()"
   ]
  },
  {
   "cell_type": "markdown",
   "metadata": {},
   "source": [
    "Воспользуемся критерием для проверки гипотезы о равенстве доли числу – реализуется через функцию `ttest_1samp()` из `stats`:"
   ]
  },
  {
   "cell_type": "code",
   "execution_count": null,
   "metadata": {},
   "outputs": [],
   "source": [
    "# подставьте вместо popmean = 0 значение из нулевой гипотезы\n",
    "# на первом месте – выборка (нужный столбец в нашем случае)\n",
    "\n",
    "stats.ttest_1samp(jdata[\"PREP\"], popmean = 0)"
   ]
  }
 ],
 "metadata": {
  "kernelspec": {
   "display_name": "Python 3",
   "language": "python",
   "name": "python3"
  },
  "language_info": {
   "codemirror_mode": {
    "name": "ipython",
    "version": 3
   },
   "file_extension": ".py",
   "mimetype": "text/x-python",
   "name": "python",
   "nbconvert_exporter": "python",
   "pygments_lexer": "ipython3",
   "version": "3.7.4"
  }
 },
 "nbformat": 4,
 "nbformat_minor": 2
}
