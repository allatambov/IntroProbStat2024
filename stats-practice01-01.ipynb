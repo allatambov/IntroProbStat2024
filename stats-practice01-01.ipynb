{
 "cells": [
  {
   "cell_type": "markdown",
   "metadata": {},
   "source": [
    "# Введение в ТВиМС\n",
    "## Практикум 1. Описание выборок\n",
    "\n",
    "\n",
    "### Часть 1. Описание выборки, сохранённой внутри массива"
   ]
  },
  {
   "cell_type": "markdown",
   "metadata": {},
   "source": [
    "Для работы в этой части практикума нам понадобится библиотека `numpy` (от *Numeric Python*, библиотека для эффективной работы с числовыми массивами) и модуль `pyplot` из библиотеки `matplotlib` (от *mathematical plots library*, библиотека для построения графиков).\n",
    "\n",
    "Импортируем их с сокращёнными названиями:"
   ]
  },
  {
   "cell_type": "code",
   "execution_count": 1,
   "metadata": {},
   "outputs": [],
   "source": [
    "import numpy as np\n",
    "from matplotlib import pyplot as plt"
   ]
  },
  {
   "cell_type": "markdown",
   "metadata": {},
   "source": [
    "Создадим массив NumPy со средними ценами на бензин марки А-92 в регионах Сибирского федерального округа по состоянию на январь 2023 года (Республика Алтай, Республика Тыва, Республика Хакасия, Алтайский край, Красноярский край, Иркутская область, Кемеровская область, Новосибирская область, Омская область, Томская область):"
   ]
  },
  {
   "cell_type": "code",
   "execution_count": 2,
   "metadata": {},
   "outputs": [],
   "source": [
    "sample = np.array([46.76, 45.98, 45.82, 44.72, 46.13, \n",
    "                 47.99, 44.60, 45.81, 44.91, 44.95])"
   ]
  },
  {
   "cell_type": "markdown",
   "metadata": {},
   "source": [
    "Почему мы сохранили значения в массив, а не в обычный список? С массивами удобнее работать, на них определены векторизованные операции, то есть операции, которые можно применить к каждому элементу безо всяких циклов и их аналогов. Например, мы можем округлить сразу все значения до целых:"
   ]
  },
  {
   "cell_type": "code",
   "execution_count": 3,
   "metadata": {},
   "outputs": [
    {
     "data": {
      "text/plain": [
       "array([47., 46., 46., 45., 46., 48., 45., 46., 45., 45.])"
      ]
     },
     "execution_count": 3,
     "metadata": {},
     "output_type": "execute_result"
    }
   ],
   "source": [
    "# метод .round() только для массивов\n",
    "\n",
    "sample.round()"
   ]
  },
  {
   "cell_type": "markdown",
   "metadata": {},
   "source": [
    "Или домножить всё на 100:"
   ]
  },
  {
   "cell_type": "code",
   "execution_count": 4,
   "metadata": {},
   "outputs": [
    {
     "data": {
      "text/plain": [
       "array([4676., 4598., 4582., 4472., 4613., 4799., 4460., 4581., 4491.,\n",
       "       4495.])"
      ]
     },
     "execution_count": 4,
     "metadata": {},
     "output_type": "execute_result"
    }
   ],
   "source": [
    "# без циклов каждое значение умножается на 100\n",
    "# на списках так не получится\n",
    "\n",
    "sample * 100"
   ]
  },
  {
   "cell_type": "markdown",
   "metadata": {},
   "source": [
    "Или вычислить среднее и стандартное отклонение, а затем выполнить стандартизацию:"
   ]
  },
  {
   "cell_type": "code",
   "execution_count": 5,
   "metadata": {},
   "outputs": [
    {
     "data": {
      "text/plain": [
       "array([ 0.99451231,  0.21332439,  0.05308072, -1.04859455,  0.36355284,\n",
       "        2.22638557, -1.16877731,  0.04306549, -0.85830519, -0.81824427])"
      ]
     },
     "execution_count": 5,
     "metadata": {},
     "output_type": "execute_result"
    }
   ],
   "source": [
    "# метод .mean() считает среднее массива\n",
    "# метод .std() считает ст отклонение\n",
    "# опять же без циклов можем вычесть из каждого значения \n",
    "# sample среднее average и поделить на std\n",
    "\n",
    "average = sample.mean()\n",
    "std = sample.std()\n",
    "\n",
    "(sample - average) / std"
   ]
  },
  {
   "cell_type": "markdown",
   "metadata": {},
   "source": [
    "**Интерпретация.** Как мы помним, 95% значений стандартной нормальной случайной величины лежат в интервале от $-2$ до 2 (от -1.96 до 1.96, если более точно). Ожидается, что после стандартизации данных значения тоже будут принадлежать этому диапазону. Здесь, в целом, это выполняется, однако есть подозрительное значение 2.226. Скорее всего, оно окажется выбросом!"
   ]
  },
  {
   "cell_type": "markdown",
   "metadata": {},
   "source": [
    "В библиотеке NumPy есть ряд методов и функций, которые позволяют описывать выборки. "
   ]
  },
  {
   "cell_type": "code",
   "execution_count": 6,
   "metadata": {},
   "outputs": [
    {
     "name": "stdout",
     "output_type": "stream",
     "text": [
      "Минимум: 44.6\n",
      "Максимум: 47.99\n"
     ]
    }
   ],
   "source": [
    "# минимум и максимум\n",
    "\n",
    "print(\"Минимум:\", sample.min())\n",
    "print(\"Максимум:\", sample.max())"
   ]
  },
  {
   "cell_type": "code",
   "execution_count": 7,
   "metadata": {},
   "outputs": [
    {
     "name": "stdout",
     "output_type": "stream",
     "text": [
      "Среднее: 45.76699999999999\n"
     ]
    }
   ],
   "source": [
    "# среднее арифметическое\n",
    "\n",
    "print(\"Среднее:\", sample.mean())"
   ]
  },
  {
   "cell_type": "markdown",
   "metadata": {},
   "source": [
    "Для выборочной дисперсии есть разные формулы подсчёта, смещённая оценка (с $n$ в знаменателе, менее хорошая) и несмещённая оценка (с $n-1$ в знаменателе, более хорошая), поэтому Python умеет считать сразу обе. По умолчанию он считает смещённую оценку:"
   ]
  },
  {
   "cell_type": "code",
   "execution_count": 8,
   "metadata": {},
   "outputs": [
    {
     "name": "stdout",
     "output_type": "stream",
     "text": [
      "Дисперсия (деление на n): 0.9969610000000004\n"
     ]
    }
   ],
   "source": [
    "# выборочная дисперсия (смещенная оценка)\n",
    "\n",
    "print(\"Дисперсия (деление на n):\", sample.var())"
   ]
  },
  {
   "cell_type": "markdown",
   "metadata": {},
   "source": [
    "Для несмещённой оценки, которая используется чаще, нужно добавить аргумент `ddof = 1`, отвечающий за число, которое необходимо вычесть из объёма выборки $n$ при усреднении суммы квадратов отклонения от среднего:"
   ]
  },
  {
   "cell_type": "code",
   "execution_count": 9,
   "metadata": {},
   "outputs": [
    {
     "name": "stdout",
     "output_type": "stream",
     "text": [
      "Дисперсия (деление на n-1): 1.107734444444445\n"
     ]
    }
   ],
   "source": [
    "# выборочная дисперсия (несмещенная оценка)\n",
    "# ddof – от degrees of freedom, степени свободы\n",
    "# здесь число степеней свободы n - 1,\n",
    "# сколько наблюдений достаточно знать, чтобы,\n",
    "# зная среднее, восстановить всю выборку\n",
    "\n",
    "print(\"Дисперсия (деление на n-1):\", sample.var(ddof = 1))"
   ]
  },
  {
   "cell_type": "markdown",
   "metadata": {},
   "source": [
    "Со стандартным отклонением та же история:"
   ]
  },
  {
   "cell_type": "code",
   "execution_count": null,
   "metadata": {},
   "outputs": [],
   "source": [
    "# выборочное стандартное отклонение\n",
    "\n",
    "print(\"Стандартное отклонение:\", sample.std(ddof = 1))"
   ]
  },
  {
   "cell_type": "markdown",
   "metadata": {},
   "source": [
    "Медиану и квартили выборки Python считать тоже умеет, только в библиотеке NumPy эти статистики считаются не с помощью методов (указываются после названия массива через точку), а с помощью функций (вызываются из самой библиотеки `numpy`, которую мы сократили до `np`, указываеются перед названием массива):"
   ]
  },
  {
   "cell_type": "code",
   "execution_count": 10,
   "metadata": {},
   "outputs": [
    {
     "name": "stdout",
     "output_type": "stream",
     "text": [
      "Медиана: 45.815\n",
      "Нижний квартиль: 44.92\n",
      "Верхний квартиль: 46.0925\n"
     ]
    }
   ],
   "source": [
    "# выборочная медиана и выборочные квартили\n",
    "# функция np.median()\n",
    "# функция np.quantile()\n",
    "\n",
    "print(\"Медиана:\", np.median(sample))\n",
    "print(\"Нижний квартиль:\", np.quantile(sample, 0.25))\n",
    "print(\"Верхний квартиль:\", np.quantile(sample, 0.75))"
   ]
  },
  {
   "cell_type": "markdown",
   "metadata": {},
   "source": [
    "**Интерпретация.** Выборка, конечно, очень маленькая, но это все регионы Сибирского ФО, больше там не найдём, поэтому можем заключить, что: \n",
    "\n",
    "* в 50% случаев цены на бензин в Сибирском ФО не превышают 45.82 рублей;\n",
    "* в 25% цены на бензин в Сибирском ФО не превышают 44.92 рублей;\n",
    "* в 75% цены на бензин в Сибирском ФО не превышают 46.09 рублей."
   ]
  },
  {
   "cell_type": "markdown",
   "metadata": {},
   "source": [
    "В библиотеке `numpy` нет удобной функции для нахождения рангов, поэтому здесь придётся задействовать ещё один модуль – модуль `stats` из библиотеки `scipy` (от *Scientific Python*, библиотека для научных вычислений). Импортируем оттуда только одну функцию для вычисления рангов `rankdata()`:"
   ]
  },
  {
   "cell_type": "code",
   "execution_count": 11,
   "metadata": {},
   "outputs": [],
   "source": [
    "from scipy.stats import rankdata"
   ]
  },
  {
   "cell_type": "code",
   "execution_count": 12,
   "metadata": {},
   "outputs": [
    {
     "data": {
      "text/plain": [
       "array([ 9.,  7.,  6.,  2.,  8., 10.,  1.,  5.,  3.,  4.])"
      ]
     },
     "execution_count": 12,
     "metadata": {},
     "output_type": "execute_result"
    }
   ],
   "source": [
    "rankdata(sample)"
   ]
  },
  {
   "cell_type": "markdown",
   "metadata": {},
   "source": [
    "Функция `rankdata()` считает ранги так же, как и мы на занятиях, с усреднением в случае одинаковых значений. В нашем случае цены на бензин указаны с точностью до копеек, одинаковых значений нет, поэтому все значения рангов целые (так как теоретически они могут быть дробными, функция возвращает массив как будто из дробных чисел, точки есть, но дробная часть отсутствует).\n",
    "\n",
    "Можем проверить на примере другой выборки с повторяющимися значениями, что средние ранги, когда нужно, считаются:"
   ]
  },
  {
   "cell_type": "code",
   "execution_count": 13,
   "metadata": {},
   "outputs": [
    {
     "data": {
      "text/plain": [
       "array([5.5, 5.5, 7. , 1. , 3. , 3. , 3. ])"
      ]
     },
     "execution_count": 13,
     "metadata": {},
     "output_type": "execute_result"
    }
   ],
   "source": [
    "rankdata([2, 2, 7, 0, 1, 1, 1])"
   ]
  },
  {
   "cell_type": "markdown",
   "metadata": {},
   "source": [
    "Вернёмся к ценам на бензин и построим гистограмму для имеющейся выборки:"
   ]
  },
  {
   "cell_type": "code",
   "execution_count": 14,
   "metadata": {},
   "outputs": [
    {
     "data": {
      "image/png": "[encoded data removed]",
      "text/plain": [
       "<Figure size 432x288 with 1 Axes>"
      ]
     },
     "metadata": {
      "needs_background": "light"
     },
     "output_type": "display_data"
    }
   ],
   "source": [
    "# функция hist() из модуля pyplot, при импорте сократили его до plt\n",
    "# color – цвет заливки, edgecolor – цвет границ столбцов\n",
    "\n",
    "plt.hist(sample, color = \"cornflowerblue\", edgecolor = \"white\");"
   ]
  },
  {
   "cell_type": "markdown",
   "metadata": {},
   "source": [
    "**Интерпретация.** Гистограмма показывает, сколько значений выборки попадает в тот или иной интервал, то есть, какие значения встречаются чаще, а какие – реже. Видно, что чаще всего средняя цена бензина в регионах Сибирского ФО принимает значения примерно от 44.5 до 45, а вот значения выше 46.5 уже редки. Плюс, между столбиком слева от значения 47 и столбиком справа от 47.5 наблюдается относительно большой «зазор», это может служить сигналом того, что в выборке, скорее всего, есть выброс или значение, очень близкое к правой границе типичных значений.\n",
    "\n",
    "Скорректируем число столбцов, чтобы на гистограмме не было «дырок», в данном случае они появляются естественным образом, потому что наблюдений в выборке мало:"
   ]
  },
  {
   "cell_type": "code",
   "execution_count": 15,
   "metadata": {},
   "outputs": [
    {
     "data": {
      "image/png": "[encoded data removed]",
      "text/plain": [
       "<Figure size 432x288 with 1 Axes>"
      ]
     },
     "metadata": {
      "needs_background": "light"
     },
     "output_type": "display_data"
    }
   ],
   "source": [
    "# bins = 5, пять столбцов\n",
    "\n",
    "plt.hist(sample, color = \"cornflowerblue\", edgecolor = \"white\", bins = 5);"
   ]
  },
  {
   "cell_type": "markdown",
   "metadata": {},
   "source": [
    "Так уже лучше. Если захотим зафиксировать не число столбцов, а шаг гистограммы (ширину столбца, величину интервала группировки), придётся в `bins` вписать последовательность из чисел, которые будут определять границами столбцов. Так, для шага, равного 1.5, мы можем создать соответствующую последовательность значений от 44 до 49:"
   ]
  },
  {
   "cell_type": "code",
   "execution_count": 25,
   "metadata": {},
   "outputs": [
    {
     "data": {
      "text/plain": [
       "array([44. , 45.5, 47. , 48.5])"
      ]
     },
     "execution_count": 25,
     "metadata": {},
     "output_type": "execute_result"
    }
   ],
   "source": [
    "# np.arange(): как range(), \n",
    "# только с дробными числами тоже работает\n",
    "\n",
    "np.arange(44, 49, 1.5)"
   ]
  },
  {
   "cell_type": "code",
   "execution_count": 26,
   "metadata": {},
   "outputs": [
    {
     "data": {
      "image/png": "[encoded data removed]",
      "text/plain": [
       "<Figure size 432x288 with 1 Axes>"
      ]
     },
     "metadata": {
      "needs_background": "light"
     },
     "output_type": "display_data"
    }
   ],
   "source": [
    "plt.hist(sample, color = \"cornflowerblue\", edgecolor = \"white\", \n",
    "         bins = np.arange(44, 49, 1.5));"
   ]
  },
  {
   "cell_type": "markdown",
   "metadata": {},
   "source": [
    "Вернём гистограмму с пятью столбцами и скорректируем подписи к осям:"
   ]
  },
  {
   "cell_type": "code",
   "execution_count": 27,
   "metadata": {},
   "outputs": [
    {
     "data": {
      "image/png": "[encoded data removed]",
      "text/plain": [
       "<Figure size 432x288 with 1 Axes>"
      ]
     },
     "metadata": {
      "needs_background": "light"
     },
     "output_type": "display_data"
    }
   ],
   "source": [
    "plt.hist(sample, color = \"cornflowerblue\", edgecolor = \"white\", bins = 5);\n",
    "\n",
    "# xlabel: подпись по оси X\n",
    "# ylabel: подпись по оси Y\n",
    "# xticks: засечки по оси X\n",
    "# yticks: засечки по оси Y\n",
    "\n",
    "\n",
    "plt.xlabel(\"Цены на бензин\");\n",
    "plt.ylabel(\"Частоты\");\n",
    "plt.xticks(ticks = range(44, 49));\n",
    "plt.yticks(ticks = range(0, 5));"
   ]
  },
  {
   "cell_type": "markdown",
   "metadata": {},
   "source": [
    "Давайте выясним, есть ли в выборке нетипичные значения! Для этого нет готового метода (по крайней мере, в библиотеке `numpy`), поэтому сначала вычислим границы типичных значений самостоятельно:"
   ]
  },
  {
   "cell_type": "code",
   "execution_count": 28,
   "metadata": {},
   "outputs": [
    {
     "name": "stdout",
     "output_type": "stream",
     "text": [
      "43.16125 47.85125\n"
     ]
    }
   ],
   "source": [
    "# q1 - нижний квартиль, q3 - верхний квартиль\n",
    "# delta - межквартильный размах\n",
    "\n",
    "q1 = np.quantile(sample, 0.25)\n",
    "q3 = np.quantile(sample, 0.75)\n",
    "\n",
    "delta = q3 - q1\n",
    "\n",
    "lower = q1 - 1.5 * delta\n",
    "upper = q3 + 1.5 * delta\n",
    "\n",
    "print(lower, upper)"
   ]
  },
  {
   "cell_type": "markdown",
   "metadata": {},
   "source": [
    "Границы нашли. Проверим, есть ли в выборке значения, которые являются нетипичными. Сначала посмотрим на нетипичные снизу:"
   ]
  },
  {
   "cell_type": "code",
   "execution_count": 29,
   "metadata": {},
   "outputs": [
    {
     "data": {
      "text/plain": [
       "array([False, False, False, False, False, False, False, False, False,\n",
       "       False])"
      ]
     },
     "execution_count": 29,
     "metadata": {},
     "output_type": "execute_result"
    }
   ],
   "source": [
    "sample < lower"
   ]
  },
  {
   "cell_type": "markdown",
   "metadata": {},
   "source": [
    "Так как операции на массивах применяются сразу к каждому элементу массива (для списков пришлось бы писать цикл и проверять условие для каждого элемента), код выше проверил выполнение условия для каждого значения выборки. Мы получили набор из `False`, значит, нетипично маленьких значений нет. Проверим наличие нетипично больших:"
   ]
  },
  {
   "cell_type": "code",
   "execution_count": 30,
   "metadata": {},
   "outputs": [
    {
     "data": {
      "text/plain": [
       "array([False, False, False, False, False,  True, False, False, False,\n",
       "       False])"
      ]
     },
     "execution_count": 30,
     "metadata": {},
     "output_type": "execute_result"
    }
   ],
   "source": [
    "sample > upper"
   ]
  },
  {
   "cell_type": "markdown",
   "metadata": {},
   "source": [
    "А вот такое значение есть – одно `True` всё-таки вышло. Объединим оба условия через оператор ИЛИ:"
   ]
  },
  {
   "cell_type": "code",
   "execution_count": 31,
   "metadata": {},
   "outputs": [
    {
     "data": {
      "text/plain": [
       "array([False, False, False, False, False,  True, False, False, False,\n",
       "       False])"
      ]
     },
     "execution_count": 31,
     "metadata": {},
     "output_type": "execute_result"
    }
   ],
   "source": [
    "# нетипичные снизу ИЛИ нетипичные сверху\n",
    "# numpy работает только с символьными операторами, не словесными\n",
    "# | вместо or, & вместо and\n",
    "\n",
    "(sample < lower) | (sample > upper)"
   ]
  },
  {
   "cell_type": "markdown",
   "metadata": {},
   "source": [
    "Теперь подставим это условие из двух частей в квадратные скобки – чтобы отфильтровать значения:"
   ]
  },
  {
   "cell_type": "code",
   "execution_count": 32,
   "metadata": {},
   "outputs": [
    {
     "data": {
      "text/plain": [
       "array([47.99])"
      ]
     },
     "execution_count": 32,
     "metadata": {},
     "output_type": "execute_result"
    }
   ],
   "source": [
    "sample[(sample < lower) | (sample > upper)]"
   ]
  },
  {
   "cell_type": "markdown",
   "metadata": {},
   "source": [
    "Логика работы кода такая: условие в квадратных скобках возвращает набор из `True` и `False`, из `sample` выбираются те элементы, для которых было получено значение `True`.\n",
    "\n",
    "**Интерпретация.** В выборке есть одно нетипично большое значение, цена 47.99. Если вернёмся к началу файла, можем увидеть, что это Иркутская область."
   ]
  },
  {
   "cell_type": "markdown",
   "metadata": {},
   "source": [
    "Проверим наши результаты – построим ящик с усами:"
   ]
  },
  {
   "cell_type": "code",
   "execution_count": 33,
   "metadata": {},
   "outputs": [
    {
     "data": {
      "image/png": "[encoded data removed]",
      "text/plain": [
       "<Figure size 432x288 with 1 Axes>"
      ]
     },
     "metadata": {
      "needs_background": "light"
     },
     "output_type": "display_data"
    }
   ],
   "source": [
    "# функция boxplot из plt\n",
    "\n",
    "plt.boxplot(sample);"
   ]
  },
  {
   "cell_type": "markdown",
   "metadata": {},
   "source": [
    "Все на месте: квартили 44.92 и 46.09, медиана 45.82, одно нетипичное значение около 48."
   ]
  },
  {
   "cell_type": "markdown",
   "metadata": {},
   "source": [
    "### Часть 2. Описание выборки, сохранённой в виде столбца таблицы"
   ]
  },
  {
   "cell_type": "markdown",
   "metadata": {},
   "source": [
    "В этой части практикума нам понадобится библиотека `pandas`, которая позволяет удобно работать с таблицами и обрабатывать данные, загруженные из файлов Excel или CSV. Импортируем её с сокращённым названием `pd`:"
   ]
  },
  {
   "cell_type": "code",
   "execution_count": 34,
   "metadata": {},
   "outputs": [],
   "source": [
    "import pandas as pd"
   ]
  },
  {
   "cell_type": "markdown",
   "metadata": {},
   "source": [
    "Загружать данные из файла пока не будем, лучше приведём нашу выборку `sample` в более приятный вид, чтобы были видны и названия регионов тоже.\n",
    "\n",
    "Создадим массив с названиями регионов:"
   ]
  },
  {
   "cell_type": "code",
   "execution_count": 35,
   "metadata": {},
   "outputs": [],
   "source": [
    "regions = np.array([\"Республика Алтай\", \"Республика Тыва\",\n",
    "           \"Республика Хакасия\", \"Алтайский край\",\n",
    "           \"Красноярский край\", \"Иркутская область\",\n",
    "           \"Кемеровская область\", \"Новосибирская область\",\n",
    "           \"Омская область\", \"Томская область\"])"
   ]
  },
  {
   "cell_type": "markdown",
   "metadata": {},
   "source": [
    "Вспомним, какая у нас была выборка:"
   ]
  },
  {
   "cell_type": "code",
   "execution_count": 36,
   "metadata": {},
   "outputs": [
    {
     "data": {
      "text/plain": [
       "array([46.76, 45.98, 45.82, 44.72, 46.13, 47.99, 44.6 , 45.81, 44.91,\n",
       "       44.95])"
      ]
     },
     "execution_count": 36,
     "metadata": {},
     "output_type": "execute_result"
    }
   ],
   "source": [
    "sample"
   ]
  },
  {
   "cell_type": "markdown",
   "metadata": {},
   "source": [
    "Создадим датафрейм – таблицу `df`, структура которой будет такой:\n",
    "\n",
    "* один столбец с названием `ai92`, в него помещаем значения из `sample`;\n",
    "* названия строк (`index`) совпадают с названиями регионов из `regions`."
   ]
  },
  {
   "cell_type": "code",
   "execution_count": 37,
   "metadata": {},
   "outputs": [
    {
     "data": {
      "text/html": [
       "<div>\n",
       "<style scoped>\n",
       "    .dataframe tbody tr th:only-of-type {\n",
       "        vertical-align: middle;\n",
       "    }\n",
       "\n",
       "    .dataframe tbody tr th {\n",
       "        vertical-align: top;\n",
       "    }\n",
       "\n",
       "    .dataframe thead th {\n",
       "        text-align: right;\n",
       "    }\n",
       "</style>\n",
       "<table border=\"1\" class=\"dataframe\">\n",
       "  <thead>\n",
       "    <tr style=\"text-align: right;\">\n",
       "      <th></th>\n",
       "      <th>ai92</th>\n",
       "    </tr>\n",
       "  </thead>\n",
       "  <tbody>\n",
       "    <tr>\n",
       "      <th>Республика Алтай</th>\n",
       "      <td>46.76</td>\n",
       "    </tr>\n",
       "    <tr>\n",
       "      <th>Республика Тыва</th>\n",
       "      <td>45.98</td>\n",
       "    </tr>\n",
       "    <tr>\n",
       "      <th>Республика Хакасия</th>\n",
       "      <td>45.82</td>\n",
       "    </tr>\n",
       "    <tr>\n",
       "      <th>Алтайский край</th>\n",
       "      <td>44.72</td>\n",
       "    </tr>\n",
       "    <tr>\n",
       "      <th>Красноярский край</th>\n",
       "      <td>46.13</td>\n",
       "    </tr>\n",
       "    <tr>\n",
       "      <th>Иркутская область</th>\n",
       "      <td>47.99</td>\n",
       "    </tr>\n",
       "    <tr>\n",
       "      <th>Кемеровская область</th>\n",
       "      <td>44.60</td>\n",
       "    </tr>\n",
       "    <tr>\n",
       "      <th>Новосибирская область</th>\n",
       "      <td>45.81</td>\n",
       "    </tr>\n",
       "    <tr>\n",
       "      <th>Омская область</th>\n",
       "      <td>44.91</td>\n",
       "    </tr>\n",
       "    <tr>\n",
       "      <th>Томская область</th>\n",
       "      <td>44.95</td>\n",
       "    </tr>\n",
       "  </tbody>\n",
       "</table>\n",
       "</div>"
      ],
      "text/plain": [
       "                        ai92\n",
       "Республика Алтай      46.76\n",
       "Республика Тыва        45.98\n",
       "Республика Хакасия     45.82\n",
       "Алтайский край      44.72\n",
       "Красноярский край    46.13\n",
       "Иркутская область      47.99\n",
       "Кемеровская область    44.60\n",
       "Новосибирская область  45.81\n",
       "Омская область         44.91\n",
       "Томская область        44.95"
      ]
     },
     "execution_count": 37,
     "metadata": {},
     "output_type": "execute_result"
    }
   ],
   "source": [
    "# датафреймы похожи на питоновские словари,\n",
    "# где ключами являются названия столбцов,\n",
    "# а значениями – перечни значений в каждом столбце,\n",
    "# поэтому здесь запись через словарь {:}\n",
    "\n",
    "df = pd.DataFrame({\"ai92\" : sample}, index = regions)\n",
    "df"
   ]
  },
  {
   "cell_type": "markdown",
   "metadata": {},
   "source": [
    "Отлично! Мы получили маленькую таблицу из одного столбца с названием `ai92`. При желании можем выгрузить её в файл Excel:"
   ]
  },
  {
   "cell_type": "code",
   "execution_count": 38,
   "metadata": {},
   "outputs": [],
   "source": [
    "# файл будет в той же папке, что и текущий ipynb-файл\n",
    "\n",
    "df.to_excel(\"Бензин_Сибирский_ФО.xlsx\")"
   ]
  },
  {
   "cell_type": "markdown",
   "metadata": {},
   "source": [
    "Кто любит LaTeX – в виде кода LaTeX тоже можем её выгрузить:"
   ]
  },
  {
   "cell_type": "code",
   "execution_count": 40,
   "metadata": {},
   "outputs": [
    {
     "name": "stdout",
     "output_type": "stream",
     "text": [
      "\\begin{tabular}{lr}\n",
      "\\toprule\n",
      "{} &   ai92 \\\\\n",
      "\\midrule\n",
      "Республика Алтай     &  46.76 \\\\\n",
      "Республика Тыва       &  45.98 \\\\\n",
      "Республика Хакасия    &  45.82 \\\\\n",
      "Алтайский край     &  44.72 \\\\\n",
      "Красноярский край   &  46.13 \\\\\n",
      "Иркутская область     &  47.99 \\\\\n",
      "Кемеровская область   &  44.60 \\\\\n",
      "Новосибирская область &  45.81 \\\\\n",
      "Омская область        &  44.91 \\\\\n",
      "Томская область       &  44.95 \\\\\n",
      "\\bottomrule\n",
      "\\end{tabular}\n",
      "\n"
     ]
    }
   ],
   "source": [
    "# \\toprule и другие \\...rule \n",
    "# можно заменить на \\hline, например\n",
    "\n",
    "print(df.to_latex())"
   ]
  },
  {
   "cell_type": "markdown",
   "metadata": {},
   "source": [
    "Выведем для столбца `ai92` основной набор описательных статистик, для этого есть готовый метод `.describe()`:"
   ]
  },
  {
   "cell_type": "code",
   "execution_count": 41,
   "metadata": {},
   "outputs": [
    {
     "data": {
      "text/plain": [
       "count    10.00000\n",
       "mean     45.76700\n",
       "std       1.05249\n",
       "min      44.60000\n",
       "25%      44.92000\n",
       "50%      45.81500\n",
       "75%      46.09250\n",
       "max      47.99000\n",
       "Name: ai92, dtype: float64"
      ]
     },
     "execution_count": 41,
     "metadata": {},
     "output_type": "execute_result"
    }
   ],
   "source": [
    "# выбор столбца по названию – как из словаря по ключу\n",
    "# в квадратных скобках в кавычках пишем название\n",
    "\n",
    "df[\"ai92\"].describe()"
   ]
  },
  {
   "cell_type": "markdown",
   "metadata": {},
   "source": [
    "Пояснения:\n",
    "    \n",
    "* `count`: число заполненных ячеек в столбце;\n",
    "* `mean`: среднее арифметическое;\n",
    "* `std`: стандартное отклонение (уже хорошее, с $n-1$ в знаменателе);\n",
    "* `min`: минимум;\n",
    "* `25%`: нижний квартиль;\n",
    "* `50%`: медиана;\n",
    "* `75%`: верхний квартиль;\n",
    "* `max`: максимум."
   ]
  },
  {
   "cell_type": "markdown",
   "metadata": {},
   "source": [
    "А теперь некоторые отдельные статистики – методы с говорящими названиями, всё как в раньше:"
   ]
  },
  {
   "cell_type": "code",
   "execution_count": 43,
   "metadata": {},
   "outputs": [
    {
     "name": "stdout",
     "output_type": "stream",
     "text": [
      "Min: 44.6\n",
      "Man: 47.99\n",
      "Median: 45.815\n",
      "Q1: 44.92\n",
      "Q3: 46.0925\n"
     ]
    }
   ],
   "source": [
    "print(\"Min:\", df[\"ai92\"].min())\n",
    "print(\"Man:\", df[\"ai92\"].max())\n",
    "print(\"Median:\", df[\"ai92\"].median())\n",
    "print(\"Q1:\", df[\"ai92\"].quantile(0.25))\n",
    "print(\"Q3:\", df[\"ai92\"].quantile(0.75))"
   ]
  },
  {
   "cell_type": "markdown",
   "metadata": {},
   "source": [
    "Построим гистограмму и ящик с усами:"
   ]
  },
  {
   "cell_type": "code",
   "execution_count": 44,
   "metadata": {},
   "outputs": [
    {
     "data": {
      "image/png": "[encoded data removed]",
      "text/plain": [
       "<Figure size 432x288 with 1 Axes>"
      ]
     },
     "metadata": {
      "needs_background": "light"
     },
     "output_type": "display_data"
    }
   ],
   "source": [
    "# ко всей таблице применяем метод .hist()\n",
    "# на первом месте в кавычках пишем название столбца,\n",
    "# остальное – как раньше\n",
    "\n",
    "df.hist(\"ai92\", color = \"cornflowerblue\", edgecolor = \"white\", bins = 5);"
   ]
  },
  {
   "cell_type": "code",
   "execution_count": 45,
   "metadata": {},
   "outputs": [
    {
     "data": {
      "image/png": "[encoded data removed]",
      "text/plain": [
       "<Figure size 432x288 with 1 Axes>"
      ]
     },
     "metadata": {
      "needs_background": "light"
     },
     "output_type": "display_data"
    }
   ],
   "source": [
    "# ко всей таблице применяем метод .boxplot()\n",
    "# на первом месте в кавычках пишем название столбца\n",
    "\n",
    "df.boxplot(\"ai92\");"
   ]
  },
  {
   "cell_type": "markdown",
   "metadata": {},
   "source": [
    "**Дополнения про цвета.** У ящиков с усами цвета изменяются нетривиальным образом, у гистограммы проще. Вместо василькового цвета в примере можем поставить любой цвет:\n",
    "\n",
    "* из [перечня](https://matplotlib.org/stable/gallery/color/named_colors.html) цветов, воспринимаемых Python;\n",
    "* используя шестнадцатеричный код, принятый в веб-дизайне (с `#`, [пример](https://g.co/kgs/D8xxGNe) палитры для выбора любого цвета).\n",
    "\n",
    "Сайт с [забавными](https://colorscheme.ru/color-names.html) названиями цветов (*макароны и сыр*, *мандариновое танго*, *цвет влюбленной жабы* и *лягушка в обмороке* как примеры чего-то безобидного)."
   ]
  },
  {
   "cell_type": "code",
   "execution_count": 46,
   "metadata": {},
   "outputs": [
    {
     "data": {
      "image/png": "[encoded data removed]",
      "text/plain": [
       "<Figure size 432x288 with 1 Axes>"
      ]
     },
     "metadata": {
      "needs_background": "light"
     },
     "output_type": "display_data"
    }
   ],
   "source": [
    "df.hist(\"ai92\", color = \"hotpink\", edgecolor = \"white\", bins = 5);"
   ]
  },
  {
   "cell_type": "code",
   "execution_count": 47,
   "metadata": {},
   "outputs": [
    {
     "data": {
      "image/png": "[encoded data removed]",
      "text/plain": [
       "<Figure size 432x288 with 1 Axes>"
      ]
     },
     "metadata": {
      "needs_background": "light"
     },
     "output_type": "display_data"
    }
   ],
   "source": [
    "df.hist(\"ai92\", color = \"#73879e\", edgecolor = \"white\", bins = 5);"
   ]
  }
 ],
 "metadata": {
  "kernelspec": {
   "display_name": "Python 3",
   "language": "python",
   "name": "python3"
  },
  "language_info": {
   "codemirror_mode": {
    "name": "ipython",
    "version": 3
   },
   "file_extension": ".py",
   "mimetype": "text/x-python",
   "name": "python",
   "nbconvert_exporter": "python",
   "pygments_lexer": "ipython3",
   "version": "3.7.4"
  }
 },
 "nbformat": 4,
 "nbformat_minor": 2
}
