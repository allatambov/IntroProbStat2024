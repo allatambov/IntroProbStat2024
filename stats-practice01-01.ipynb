{
 "cells": [
  {
   "cell_type": "markdown",
   "metadata": {},
   "source": [
    "# Введение в ТВиМС\n",
    "## Практикум 1.1. Описание выборок\n",
    "\n",
    "\n",
    "### Часть 1. Описание выборки, сохранённой внутри массива"
   ]
  },
  {
   "cell_type": "markdown",
   "metadata": {},
   "source": [
    "Для работы в этой части практикума нам понадобится библиотека `numpy` (от *Numeric Python*, библиотека для эффективной работы с числовыми массивами) и модуль `pyplot` из библиотеки `matplotlib` (от *mathematical plots library*, библиотека для построения графиков).\n",
    "\n",
    "Импортируем их с сокращёнными названиями:"
   ]
  },
  {
   "cell_type": "code",
   "execution_count": null,
   "metadata": {},
   "outputs": [],
   "source": [
    "import numpy as np\n",
    "from matplotlib import pyplot as plt"
   ]
  },
  {
   "cell_type": "markdown",
   "metadata": {},
   "source": [
    "Создадим массив NumPy со средними ценами на бензин марки А-92 в регионах Сибирского федерального округа по состоянию на январь 2023 года (Республика Алтай, Республика Тыва, Республика Хакасия, Алтайский край, Красноярский край, Иркутская область, Кемеровская область, Новосибирская область, Омская область, Томская область):"
   ]
  },
  {
   "cell_type": "code",
   "execution_count": null,
   "metadata": {},
   "outputs": [],
   "source": [
    "sample = np.array([46.76, 45.98, 45.82, 44.72, 46.13, \n",
    "                 47.99, 44.60, 45.81, 44.91, 44.95])"
   ]
  },
  {
   "cell_type": "markdown",
   "metadata": {},
   "source": [
    "Почему мы сохранили значения в массив, а не в обычный список? С массивами удобнее работать, на них определены векторизованные операции, то есть операции, которые можно применить к каждому элементу безо всяких циклов и их аналогов. Например, мы можем округлить сразу все значения до целых:"
   ]
  },
  {
   "cell_type": "code",
   "execution_count": null,
   "metadata": {},
   "outputs": [],
   "source": [
    "sample.round()"
   ]
  },
  {
   "cell_type": "markdown",
   "metadata": {},
   "source": [
    "Или домножить всё на 100:"
   ]
  },
  {
   "cell_type": "code",
   "execution_count": null,
   "metadata": {},
   "outputs": [],
   "source": [
    "sample * 100"
   ]
  },
  {
   "cell_type": "markdown",
   "metadata": {},
   "source": [
    "Или вычислить среднее и стандартное отклонение, а затем выполнить стандартизацию:"
   ]
  },
  {
   "cell_type": "code",
   "execution_count": null,
   "metadata": {},
   "outputs": [],
   "source": [
    "average = sample.mean()\n",
    "std = sample.std()\n",
    "\n",
    "(sample - average) / std"
   ]
  },
  {
   "cell_type": "markdown",
   "metadata": {},
   "source": [
    "В библиотеке NumPy есть ряд методов и функций, которые позволяют описывать выборки. "
   ]
  },
  {
   "cell_type": "code",
   "execution_count": null,
   "metadata": {},
   "outputs": [],
   "source": [
    "# минимум и максимум\n",
    "\n",
    "print(\"Минимум:\", sample.min())\n",
    "print(\"Максимум:\", sample.max())"
   ]
  },
  {
   "cell_type": "code",
   "execution_count": null,
   "metadata": {},
   "outputs": [],
   "source": [
    "# среднее арифметическое\n",
    "\n",
    "print(\"Среднее:\", sample.mean())"
   ]
  },
  {
   "cell_type": "code",
   "execution_count": null,
   "metadata": {},
   "outputs": [],
   "source": [
    "# выборочная дисперсия (смещенная оценка)\n",
    "# выборочная дисперсия (несмещенная оценка)\n",
    "\n",
    "print(\"Дисперсия (деление на n):\", sample.var())\n",
    "print(\"Дисперсия (деление на n-1):\", sample.var(ddof = 1))"
   ]
  },
  {
   "cell_type": "code",
   "execution_count": null,
   "metadata": {},
   "outputs": [],
   "source": [
    "# выборочное стандартное отклонение\n",
    "\n",
    "print(\"Стандартное отклонение:\", sample.std(ddof = 1))"
   ]
  },
  {
   "cell_type": "code",
   "execution_count": null,
   "metadata": {},
   "outputs": [],
   "source": [
    "# выборочная медиана и выборочные квартили\n",
    "\n",
    "print(\"Медиана:\", np.median(sample))\n",
    "print(\"Нижний квартиль:\", np.quantile(sample, 0.25))\n",
    "print(\"Верхний квартиль:\", np.quantile(sample, 0.75))"
   ]
  },
  {
   "cell_type": "markdown",
   "metadata": {},
   "source": [
    "В библиотеке `numpy` нет удобной функции для нахождения рангов, поэтому здесь придётся задействовать ещё один модуль – модуль `stats` из библиотеки `scipy` (от *Scientific Python*, библиотека для научных вычислений). Импортируем оттуда только одну функцию для вычисления рангов `rankdata()`:"
   ]
  },
  {
   "cell_type": "code",
   "execution_count": null,
   "metadata": {},
   "outputs": [],
   "source": [
    "from scipy.stats import rankdata"
   ]
  },
  {
   "cell_type": "code",
   "execution_count": null,
   "metadata": {},
   "outputs": [],
   "source": [
    "rankdata(sample)"
   ]
  },
  {
   "cell_type": "markdown",
   "metadata": {},
   "source": [
    "Построим гистограмму для имеющейся выборки:"
   ]
  },
  {
   "cell_type": "code",
   "execution_count": null,
   "metadata": {},
   "outputs": [],
   "source": [
    "plt.hist(sample, color = \"cornflowerblue\", edgecolor = \"white\");"
   ]
  },
  {
   "cell_type": "markdown",
   "metadata": {},
   "source": [
    "Скорректируем число столбцов:"
   ]
  },
  {
   "cell_type": "code",
   "execution_count": null,
   "metadata": {},
   "outputs": [],
   "source": [
    "plt.hist(sample, color = \"cornflowerblue\", edgecolor = \"white\",\n",
    "        bins = 5);"
   ]
  },
  {
   "cell_type": "markdown",
   "metadata": {},
   "source": [
    "Скорректируем подписи к осям:"
   ]
  },
  {
   "cell_type": "code",
   "execution_count": null,
   "metadata": {},
   "outputs": [],
   "source": [
    "plt.hist(sample, color = \"cornflowerblue\", edgecolor = \"white\", bins = 5);\n",
    "plt.xlabel(\"Цены на бензин\");\n",
    "plt.ylabel(\"Частоты\");\n",
    "plt.xticks(ticks = range(44, 49));\n",
    "plt.yticks(ticks = range(0, 5));"
   ]
  },
  {
   "cell_type": "markdown",
   "metadata": {},
   "source": [
    "Давайте выясним, есть ли в выборке нетипичные значения!"
   ]
  },
  {
   "cell_type": "code",
   "execution_count": null,
   "metadata": {},
   "outputs": [],
   "source": [
    "### YOUR CODE HERE ###"
   ]
  },
  {
   "cell_type": "markdown",
   "metadata": {},
   "source": [
    "Проверим наши результаты – построим ящик с усами:"
   ]
  },
  {
   "cell_type": "code",
   "execution_count": null,
   "metadata": {},
   "outputs": [],
   "source": [
    "### YOUR CODE HERE ###"
   ]
  },
  {
   "cell_type": "markdown",
   "metadata": {},
   "source": [
    "### Часть 2. Описание выборки, сохранённой в виде столбца таблицы"
   ]
  },
  {
   "cell_type": "markdown",
   "metadata": {},
   "source": [
    "В этой части практикума нам понадобится библиотека `pandas`, которая позволяет удобно работать с таблицами и обрабатывать данные, загруженные из файлов Excel или CSV. Импортируем её."
   ]
  },
  {
   "cell_type": "code",
   "execution_count": null,
   "metadata": {},
   "outputs": [],
   "source": [
    "import pandas as pd"
   ]
  },
  {
   "cell_type": "markdown",
   "metadata": {},
   "source": [
    "Создадим массив с названиями регионов:"
   ]
  },
  {
   "cell_type": "code",
   "execution_count": null,
   "metadata": {},
   "outputs": [],
   "source": [
    "regions = np.array([\"Республика Алтай\", \"Республика Тыва\",\n",
    "           \"Республика Хакасия\", \"Алтайский край\",\n",
    "           \"Красноярский край\", \"Иркутская область\",\n",
    "           \"Кемеровская область\", \"Новосибирская область\",\n",
    "           \"Омская область\", \"Томская область\"])"
   ]
  },
  {
   "cell_type": "markdown",
   "metadata": {},
   "source": [
    "Вспомним, какая у нас была выборка:"
   ]
  },
  {
   "cell_type": "code",
   "execution_count": null,
   "metadata": {},
   "outputs": [],
   "source": [
    "sample = np.array([46.76, 45.98, 45.82, 44.72, 46.13, \n",
    "                 47.99, 44.60, 45.81, 44.91, 44.95])"
   ]
  },
  {
   "cell_type": "markdown",
   "metadata": {},
   "source": [
    "Создадим датафрейм – таблицу `df`, структура которой будет такой:\n",
    "\n",
    "* один столбец с названием `ai92`, в него помещаем значения из `sample`;\n",
    "* названия строк (`index`) совпадают с названиями регионов из `regions`."
   ]
  },
  {
   "cell_type": "code",
   "execution_count": null,
   "metadata": {},
   "outputs": [],
   "source": [
    "df = pd.DataFrame({\"ai92\" : sample}, index = regions)\n",
    "df"
   ]
  },
  {
   "cell_type": "markdown",
   "metadata": {},
   "source": [
    "Выведем для столбца `ai92` основной набор описательных статистик:"
   ]
  },
  {
   "cell_type": "code",
   "execution_count": null,
   "metadata": {},
   "outputs": [],
   "source": [
    "df[\"ai92\"].describe()"
   ]
  },
  {
   "cell_type": "markdown",
   "metadata": {},
   "source": [
    "А теперь некоторые отдельные статистики:"
   ]
  },
  {
   "cell_type": "code",
   "execution_count": null,
   "metadata": {},
   "outputs": [],
   "source": [
    "print(df[\"ai92\"].min())\n",
    "print(df[\"ai92\"].max())\n",
    "print(df[\"ai92\"].median())\n",
    "print(df[\"ai92\"].quantile(0.25))\n",
    "print(df[\"ai92\"].quantile(0.75))"
   ]
  },
  {
   "cell_type": "markdown",
   "metadata": {},
   "source": [
    "Построим гистограмму и ящик с усами:"
   ]
  },
  {
   "cell_type": "code",
   "execution_count": null,
   "metadata": {},
   "outputs": [],
   "source": [
    "df.hist(\"ai92\", color = \"cornflowerblue\", edgecolor = \"white\", bins = 5);"
   ]
  },
  {
   "cell_type": "code",
   "execution_count": null,
   "metadata": {},
   "outputs": [],
   "source": [
    "df.boxplot(\"ai92\");"
   ]
  }
 ],
 "metadata": {
  "kernelspec": {
   "display_name": "Python 3",
   "language": "python",
   "name": "python3"
  },
  "language_info": {
   "codemirror_mode": {
    "name": "ipython",
    "version": 3
   },
   "file_extension": ".py",
   "mimetype": "text/x-python",
   "name": "python",
   "nbconvert_exporter": "python",
   "pygments_lexer": "ipython3",
   "version": "3.7.4"
  }
 },
 "nbformat": 4,
 "nbformat_minor": 2
}
