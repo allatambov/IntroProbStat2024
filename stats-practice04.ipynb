{
 "cells": [
  {
   "cell_type": "markdown",
   "metadata": {},
   "source": [
    "# Введение в ТВиМС\n",
    "\n",
    "*Алла Тамбовцева*\n",
    "\n",
    "## Практикум 4. Меры связи"
   ]
  },
  {
   "cell_type": "markdown",
   "metadata": {},
   "source": [
    "Импортируем библиотеку `pandas` и модуль `stats` из библиотеки `pandas`:"
   ]
  },
  {
   "cell_type": "code",
   "execution_count": null,
   "metadata": {},
   "outputs": [],
   "source": [
    "import pandas as pd\n",
    "from scipy import stats"
   ]
  },
  {
   "cell_type": "markdown",
   "metadata": {},
   "source": [
    "### Часть 1. О счастье: количественные данные"
   ]
  },
  {
   "cell_type": "markdown",
   "metadata": {},
   "source": [
    "Загрузим данные:"
   ]
  },
  {
   "cell_type": "code",
   "execution_count": null,
   "metadata": {},
   "outputs": [],
   "source": [
    "happy = pd.read_csv(\"https://raw.githubusercontent.com/allatambov/IntroProbStat2024/main/WHR_2023.csv\")\n",
    "happy.head(3)"
   ]
  },
  {
   "cell_type": "markdown",
   "metadata": {},
   "source": [
    "Посмотрим на то, как названы регионы в таблице:"
   ]
  },
  {
   "cell_type": "code",
   "execution_count": null,
   "metadata": {},
   "outputs": [],
   "source": [
    "happy[\"region\"].value_counts()"
   ]
  },
  {
   "cell_type": "markdown",
   "metadata": {},
   "source": [
    "Для дальнейших манипуляций закодируем регионы числами (но данные не перестанут быть качественными, как с числами с ними работать всё равно нельзя):"
   ]
  },
  {
   "cell_type": "code",
   "execution_count": null,
   "metadata": {},
   "outputs": [],
   "source": [
    "happy[\"region_num\"] = happy[\"region\"].map({\"Sub-Saharan Africa\": 1, \n",
    "                                           \"Central and Eastern Europe\" : 2, \n",
    "                                           \"Western Europe\" : 3, \n",
    "                                           \"Latin America and Caribbean\" : 4, \n",
    "                                           \"Middle East and North Africa\" : 5, \n",
    "                                           \"Southeast Asia\" : 6, \n",
    "                                           \"East Asia\" : 7,\n",
    "                                           \"South Asia\" : 8,\n",
    "                                           \"North America and ANZ\": 9,\n",
    "                                           \"Commonwealth of Independent States\" : 10})\n",
    "\n",
    "happy[\"region_num\"].value_counts()"
   ]
  },
  {
   "cell_type": "markdown",
   "metadata": {},
   "source": [
    "Изучим распределение индекса счастья:"
   ]
  },
  {
   "cell_type": "code",
   "execution_count": null,
   "metadata": {},
   "outputs": [],
   "source": [
    "happy[\"happiness_score\"].describe()"
   ]
  },
  {
   "cell_type": "code",
   "execution_count": null,
   "metadata": {},
   "outputs": [],
   "source": [
    "# самые счастливые страны\n",
    "\n",
    "happy.sort_values(\"happiness_score\", \n",
    "                  ascending = False).head(3)"
   ]
  },
  {
   "cell_type": "code",
   "execution_count": null,
   "metadata": {},
   "outputs": [],
   "source": [
    "# самые несчастливые страны\n",
    "\n",
    "happy.sort_values(\"happiness_score\", \n",
    "                  ascending = False).tail(3)"
   ]
  },
  {
   "cell_type": "markdown",
   "metadata": {},
   "source": [
    "Построим гистограмму для индекса счастья:"
   ]
  },
  {
   "cell_type": "code",
   "execution_count": null,
   "metadata": {},
   "outputs": [],
   "source": [
    "# цвет – пурпурное горное величие\n",
    "\n",
    "happy[\"happiness_score\"].hist(color = \"#9D81BA\", \n",
    "                              edgecolor = \"white\",\n",
    "                              figsize = (16, 9));"
   ]
  },
  {
   "cell_type": "markdown",
   "metadata": {},
   "source": [
    "Построим гистограмму для ВВП на душу населения:"
   ]
  },
  {
   "cell_type": "code",
   "execution_count": null,
   "metadata": {},
   "outputs": [],
   "source": [
    "# цвет – папоротник Крайола\n",
    "\n",
    "happy[\"gdp_per_capita\"].hist(color = \"#71BC78\", \n",
    "                             edgecolor = \"white\",\n",
    "                             figsize = (16, 9));"
   ]
  },
  {
   "cell_type": "markdown",
   "metadata": {},
   "source": [
    "Построим диаграмму рассеивания *ВВП на душу населения* vs *индекс счастья*:"
   ]
  },
  {
   "cell_type": "code",
   "execution_count": null,
   "metadata": {},
   "outputs": [],
   "source": [
    "happy.plot.scatter(x = \"gdp_per_capita\", \n",
    "                   y = \"happiness_score\",\n",
    "                   color = \"#025669\", \n",
    "                   figsize = (16, 9), \n",
    "                   grid = True,\n",
    "                   xlabel = \"GDP per capita\",\n",
    "                   ylabel = \"Happiness score\");"
   ]
  },
  {
   "cell_type": "markdown",
   "metadata": {},
   "source": [
    "Добавим градиент на цвет точек в зависимости от третьего показателя – индекса социальной поддержки:"
   ]
  },
  {
   "cell_type": "code",
   "execution_count": null,
   "metadata": {},
   "outputs": [],
   "source": [
    "# https://matplotlib.org/stable/users/explain/colors/colormaps.html\n",
    "\n",
    "happy.plot.scatter(\"gdp_per_capita\", \"happiness_score\",\n",
    "                   c = \"social_support\", \n",
    "                   cmap = \"viridis\",\n",
    "                   figsize = (16, 9), \n",
    "                   grid = True);"
   ]
  },
  {
   "cell_type": "code",
   "execution_count": null,
   "metadata": {},
   "outputs": [],
   "source": [
    "# изменим цветовую палитру\n",
    "\n",
    "happy.plot.scatter(\"gdp_per_capita\", \"happiness_score\",\n",
    "                   c = \"social_support\", \n",
    "                   cmap = \"Blues\",\n",
    "                   figsize = (16, 9),\n",
    "                   grid = True);"
   ]
  },
  {
   "cell_type": "markdown",
   "metadata": {},
   "source": [
    "Сделаем цвет точек зависимым от региона (их 10):"
   ]
  },
  {
   "cell_type": "code",
   "execution_count": null,
   "metadata": {},
   "outputs": [],
   "source": [
    "happy.plot.scatter(\"gdp_per_capita\", \"happiness_score\",\n",
    "                   c = \"region_num\", \n",
    "                   cmap = \"tab10\", \n",
    "                   figsize = (16, 9));"
   ]
  },
  {
   "cell_type": "markdown",
   "metadata": {},
   "source": [
    "Вычислим коэффициент Пирсона и сразу проверим его значимость:"
   ]
  },
  {
   "cell_type": "code",
   "execution_count": null,
   "metadata": {},
   "outputs": [],
   "source": [
    "stats.pearsonr(happy[\"happiness_score\"], happy[\"gdp_per_capita\"])"
   ]
  },
  {
   "cell_type": "markdown",
   "metadata": {},
   "source": [
    "Вычислим коэффициент Спирмена и соответствующее p-value:"
   ]
  },
  {
   "cell_type": "code",
   "execution_count": null,
   "metadata": {},
   "outputs": [],
   "source": [
    "stats.spearmanr(happy[\"happiness_score\"], happy[\"gdp_per_capita\"])"
   ]
  },
  {
   "cell_type": "markdown",
   "metadata": {},
   "source": [
    "Выберем числовые столбцы из таблицы:"
   ]
  },
  {
   "cell_type": "code",
   "execution_count": null,
   "metadata": {},
   "outputs": [],
   "source": [
    "small = happy[[\"happiness_score\", \"gdp_per_capita\", \"social_support\", \n",
    "               \"healthy_life_expectancy\", \"generosity\", \"perceptions_of_corruption\"]]"
   ]
  },
  {
   "cell_type": "markdown",
   "metadata": {},
   "source": [
    "Построим матрицу диаграмм рассеивания (*scatterplot matrix*):"
   ]
  },
  {
   "cell_type": "code",
   "execution_count": null,
   "metadata": {},
   "outputs": [],
   "source": [
    "pd.plotting.scatter_matrix(small, \n",
    "                          figsize = (16, 9), \n",
    "                          hist_kwds = {\"color\" : \"#9D81BA\", \"edgecolor\" : \"white\"}, \n",
    "                          color = \"navy\");"
   ]
  },
  {
   "cell_type": "markdown",
   "metadata": {},
   "source": [
    "Можем вывести коэффициенты Пирсона для всех пар числовых переменных:"
   ]
  },
  {
   "cell_type": "code",
   "execution_count": null,
   "metadata": {},
   "outputs": [],
   "source": [
    "# корреляционная матрица\n",
    "\n",
    "small.corr()"
   ]
  },
  {
   "cell_type": "markdown",
   "metadata": {},
   "source": [
    "### Часть 2. О счастье: качественные данные"
   ]
  },
  {
   "cell_type": "markdown",
   "metadata": {},
   "source": [
    "Загрузим другой набор данных – о жизни в крупных городах:"
   ]
  },
  {
   "cell_type": "code",
   "execution_count": null,
   "metadata": {},
   "outputs": [],
   "source": [
    "cities = pd.read_csv(\"https://raw.githubusercontent.com/allatambov/IntroProbStat2024/main/city_happy.csv\")\n",
    "cities.head(3)"
   ]
  },
  {
   "cell_type": "markdown",
   "metadata": {},
   "source": [
    "Построим таблицу сопряженности *качество воздуха* vs *уровень счастья*:"
   ]
  },
  {
   "cell_type": "code",
   "execution_count": null,
   "metadata": {},
   "outputs": [],
   "source": [
    "tab1 = pd.crosstab(cities[\"Air_Quality_Category\"], \n",
    "            cities[\"Happiness_Cat\"])\n",
    "tab1"
   ]
  },
  {
   "cell_type": "markdown",
   "metadata": {},
   "source": [
    "Применим критерий хи-квадрат:"
   ]
  },
  {
   "cell_type": "code",
   "execution_count": null,
   "metadata": {},
   "outputs": [],
   "source": [
    "stats.chi2_contingency(tab1)"
   ]
  },
  {
   "cell_type": "markdown",
   "metadata": {},
   "source": [
    "Построим таблицу сопряженности *интенсивность дорожного движения* vs *уровень счастья*:"
   ]
  },
  {
   "cell_type": "code",
   "execution_count": null,
   "metadata": {},
   "outputs": [],
   "source": [
    "tab2 = pd.crosstab(cities[\"Traffic_Density\"], \n",
    "            cities[\"Happiness_Cat\"])\n",
    "tab2"
   ]
  },
  {
   "cell_type": "markdown",
   "metadata": {},
   "source": [
    "Применим критерий хи-квадрат:"
   ]
  },
  {
   "cell_type": "code",
   "execution_count": null,
   "metadata": {},
   "outputs": [],
   "source": [
    "stats.chi2_contingency(tab2)"
   ]
  }
 ],
 "metadata": {
  "kernelspec": {
   "display_name": "Python 3",
   "language": "python",
   "name": "python3"
  },
  "language_info": {
   "codemirror_mode": {
    "name": "ipython",
    "version": 3
   },
   "file_extension": ".py",
   "mimetype": "text/x-python",
   "name": "python",
   "nbconvert_exporter": "python",
   "pygments_lexer": "ipython3",
   "version": "3.7.4"
  }
 },
 "nbformat": 4,
 "nbformat_minor": 2
}
