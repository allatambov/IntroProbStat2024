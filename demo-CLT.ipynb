{
 "cells": [
  {
   "cell_type": "markdown",
   "metadata": {},
   "source": [
    "## Введение в ТВиМС\n",
    "\n",
    "*Алла Тамбовцева*\n",
    "\n",
    "### Иллюстрация действия центральной предельной теоремы\n",
    "\n",
    "Импортируем необходимые библиотеки и модули:\n",
    "\n",
    "* библиотеку `numpy` с сокращённым названием `np` для работы с числовыми массивами;\n",
    "* модуль `stats` из библиотеки `scipy` для статистических вычислений;\n",
    "* модуль `pyplot` с сокращённым названием `plt` из библиотеки `matplotlib` для отрисовки графиков."
   ]
  },
  {
   "cell_type": "code",
   "execution_count": null,
   "metadata": {},
   "outputs": [],
   "source": [
    "import numpy as np\n",
    "from scipy import stats\n",
    "from matplotlib import pyplot as plt"
   ]
  },
  {
   "cell_type": "markdown",
   "metadata": {},
   "source": [
    "Сгенерируем случайную величину `X`, имеющую нормальное распределение со средним 100 и стандартным отклонением 20:"
   ]
  },
  {
   "cell_type": "code",
   "execution_count": 2,
   "metadata": {},
   "outputs": [],
   "source": [
    "# loc – среднее\n",
    "# scale – стандартное отклонение\n",
    "\n",
    "X = stats.norm(loc = 100, scale = 20)"
   ]
  },
  {
   "cell_type": "markdown",
   "metadata": {},
   "source": [
    "Сымитируем извлечение 1000 разных случайных выборок объёма $N = 9$ из случайной величины `X` и посчитаем среднее по каждой выборке. Для этого напишем цикл и посчитанные средние сохраним в списке `means9`:"
   ]
  },
  {
   "cell_type": "code",
   "execution_count": 3,
   "metadata": {},
   "outputs": [
    {
     "name": "stdout",
     "output_type": "stream",
     "text": [
      "1000\n",
      "[95.84433447878966, 94.9763052763172, 106.46949005036826, 92.94101045512258, 101.5415440481635]\n"
     ]
    }
   ],
   "source": [
    "means9 = []\n",
    "\n",
    "# X.rvs() от random variable sample\n",
    "# 1000 раз повторяем извлечение выборки из X\n",
    "# считаем среднее и прицепляем к means9\n",
    "\n",
    "for i in range(1, 1001):\n",
    "    sample = X.rvs(size = 9)\n",
    "    mean = sample.mean()\n",
    "    means9.append(mean)\n",
    "\n",
    "print(len(means9)) # всего 1000 средних значений\n",
    "print(means9[0:5]) # 5 средних для примера"
   ]
  },
  {
   "cell_type": "markdown",
   "metadata": {},
   "source": [
    "Так как выборки извлекаются случайным образом, у каждого в `means9` будут сохранены разные значения, плюс, при новом запуске ячейки с кодом, элементы `means9` будут обновляться. Это нормальное, главное, что в `means9` всегда 1000 элементов, это 1000 средних значений. Мы как будто бы отправили 1000 разных исследователей с поручением опросить 9 случайно выбранных человек, они их опросили и зафиксировали средние значения интересующего показателя на основе выборки из этих 9 человек.\n",
    "\n",
    "Построим гистограмму для набора средних `means9`:"
   ]
  },
  {
   "cell_type": "code",
   "execution_count": 4,
   "metadata": {},
   "outputs": [
    {
     "data": {
      "image/png": "[encoded data removed]",
      "text/plain": [
       "<Figure size 432x288 with 1 Axes>"
      ]
     },
     "metadata": {
      "needs_background": "light"
     },
     "output_type": "display_data"
    }
   ],
   "source": [
    "# функция hist() от histogram из модуля plt\n",
    "# color – цвет заливки, edgecolor – цвет границ столбцов\n",
    "\n",
    "plt.hist(means9, color = \"cornflowerblue\", edgecolor = \"black\");"
   ]
  },
  {
   "cell_type": "markdown",
   "metadata": {},
   "source": [
    "Что мы видим? Средние значения выборок получились довольно разнообразными. Получается, у кого-то из наших мифических исследователей была выборка со средним значением 115, у кого-то – со значением 80, а у кого-то – со значением 105. Другими словами, кто-то получил оценку среднего, близкую к истинному значению 100 (таких, к счастью, больше всего), а кто-то – достаточно отдалённую от истины."
   ]
  },
  {
   "cell_type": "markdown",
   "metadata": {},
   "source": [
    "Согласно центральной предельной теореме, выборочные средние должны быть распределены нормально со средним $a=100$ и стандартным отклонением $\\sigma = \\frac{20}{\\sqrt{9}}$. Итого получаем:\n",
    "\n",
    "$$\n",
    "\\bar{x} \\sim N(a = 100, \\sigma = 6.67)\n",
    "$$\n",
    "\n",
    "А значит, по правилу трёх сигм, 99.8% должны лежать в следующем интервале (округлим границы):\n",
    "\n",
    "$$\n",
    "[a - 3 \\sigma; a + 3 \\sigma]\n",
    "$$\n",
    "$$\n",
    "[100 - 3 \\times 6.67; 100 + 3 \\times 6.67]\n",
    "$$\n",
    "$$\n",
    "[80; 120]\n",
    "$$\n",
    "\n",
    "Так и есть! Судя по гистограмме, значения разбросаны примерно от 80 до 120, но при этом чаще всего встречаются значения в окрестности 100. Почему интервал получился таким широким? Потому что мы пытались оценить среднее по выборкам очень маленького объёма ($N=9$), а раз так, оценки могут будут неточными, то есть удалёнными от истинного значения параметра."
   ]
  },
  {
   "cell_type": "markdown",
   "metadata": {},
   "source": [
    "Посмотрим, что будет происходить, если мы увеличим объём выборки. Будем по аналогичной схеме извлекать из `X` случайные выборки размера $N=36$ и сохранять их в список `means36`:"
   ]
  },
  {
   "cell_type": "code",
   "execution_count": 5,
   "metadata": {},
   "outputs": [
    {
     "data": {
      "image/png": "[encoded data removed]",
      "text/plain": [
       "<Figure size 432x288 with 1 Axes>"
      ]
     },
     "metadata": {
      "needs_background": "light"
     },
     "output_type": "display_data"
    }
   ],
   "source": [
    "means36 = []\n",
    "\n",
    "for i in range(1, 1001):\n",
    "    sample = X.rvs(size = 36)\n",
    "    mean = sample.mean()\n",
    "    means36.append(mean)\n",
    "    \n",
    "plt.hist(means36, color = \"cornflowerblue\", edgecolor = \"black\");"
   ]
  },
  {
   "cell_type": "markdown",
   "metadata": {},
   "source": [
    "Снова распределение похоже на колокол, но теперь этот колокол более узкий. Согласно центральной предельной теореме, теперь выборочные средние должны быть распределены так:\n",
    "\n",
    "$$\n",
    "\\bar{x} \\sim N(a = 100, \\sigma = \\frac{20}{\\sqrt{36}})\n",
    "$$\n",
    "\n",
    "$$\n",
    "\\bar{x} \\sim N(a = 100, \\sigma = 3.33)\n",
    "$$\n",
    "\n",
    "И тогда почти 100%  должны принадлежать интервалу:\n",
    "\n",
    "$$\n",
    "[100 - 3 \\times 3.33; 100 + 3 \\times 3.33]\n",
    "$$\n",
    "$$\n",
    "[90; 110]\n",
    "$$\n",
    "\n",
    "Снова наш результат компьютерной симуляции это подтверждает, значения, если верить гистограмме, действительно лежат в этом диапазоне. И да, этот диапазон сейчас уже более узкий, мы будем получать выборочные средние, которые, в целом, отклоняются от истинного среднего `X` не более, чем на 10. \n",
    "\n",
    "Увеличим объём выборки до $N=100$:\n",
    "\n"
   ]
  },
  {
   "cell_type": "code",
   "execution_count": 7,
   "metadata": {},
   "outputs": [
    {
     "data": {
      "image/png": "[encoded data removed]",
      "text/plain": [
       "<Figure size 432x288 with 1 Axes>"
      ]
     },
     "metadata": {
      "needs_background": "light"
     },
     "output_type": "display_data"
    }
   ],
   "source": [
    "means100 = []\n",
    "\n",
    "for i in range(1, 1001):\n",
    "    sample = X.rvs(size = 100)\n",
    "    mean = sample.mean()\n",
    "    means100.append(mean)\n",
    "    \n",
    "plt.hist(means100, color = \"cornflowerblue\", edgecolor = \"black\");"
   ]
  },
  {
   "cell_type": "markdown",
   "metadata": {},
   "source": [
    "Видно, что гистограмма стала более узкой, значения теперь варьируются примерно от 94 до 106. Какой интервал ожидается, согласно предельной теореме и правилу трёх сигм?\n",
    "\n",
    "$$\n",
    "\\bar{x} \\sim N(a = 100, \\sigma = \\frac{20}{\\sqrt{100}})\n",
    "$$\n",
    "\n",
    "$$\n",
    "\\bar{x} \\sim N(a = 100, \\sigma = 2)\n",
    "$$\n",
    "\n",
    "$$\n",
    "[100 - 3 \\times 2; 100 + 3 \\times 2]\n",
    "$$\n",
    "\n",
    "$$\n",
    "[94; 106]\n",
    "$$\n",
    "\n",
    "Так есть, идеально! Чем больше выборка, чем более точные, то есть сконцентрированные вокруг истинного значения, оценки среднего мы можем получить. "
   ]
  },
  {
   "cell_type": "markdown",
   "metadata": {},
   "source": [
    "### Часть 2: выборки из распределения, отличного от нормального\n",
    "\n",
    "Случайная величина `X`, которую мы создали ранее, имела нормальное распределение. И выборочные средние, которые мы получали по извлечении выборок разного размера, тоже были распределены примерно нормально, гистограммы были похожи на «колокольчики». Однако, если верить центральной предельной теореме, выборочные средние будут распределены нормально, даже если случайная величина, описывающая генеральную совокупность, откуда мы дёргаем выборки, будет иметь распределение, отличное от нормального (конечно, при условии, что выборки большие и мы извлекаем их независимым образом).\n",
    "\n",
    "Проверим это. Создадим случайную величину `Y`, имеющую равномерное распределение на отрезке от 20 до 60 и зафиксируем её математическое ожидание и стандартное отклонение:"
   ]
  },
  {
   "cell_type": "code",
   "execution_count": 8,
   "metadata": {},
   "outputs": [
    {
     "name": "stdout",
     "output_type": "stream",
     "text": [
      "Среднее генеральной совокупности: 40.0\n",
      "Стандартное отклонение генеральной совокупности: 11.547005383792515\n"
     ]
    }
   ],
   "source": [
    "# unif() от uniform distribution\n",
    "# на первом месте – левая граница отрезка, на втором – длина отрезка\n",
    "# mean() и std() при применении к случайной величине, а не выборке, \n",
    "# считают математическое ожидание и ст отклонение величины\n",
    "\n",
    "Y = stats.uniform(20, 40)\n",
    "\n",
    "print(\"Среднее генеральной совокупности:\", Y.mean())\n",
    "print(\"Стандартное отклонение генеральной совокупности:\", Y.std())"
   ]
  },
  {
   "cell_type": "markdown",
   "metadata": {},
   "source": [
    "Как мы помним, плотность распределения такой случайной величины постоянна на разных отрезках:\n",
    "\n",
    "* $\\text{f}(y) = 0$, при $Y < 20$ и при $Y > 60$ \n",
    "* $\\text{f}(y) = \\frac{1}{40}$, при $20 \\leqslant Y \\leqslant 60$."
   ]
  },
  {
   "cell_type": "markdown",
   "metadata": {},
   "source": [
    "Чтобы не писать сейчас новый код для построения чисто математического графика плотности, давайте просто извлечём из этой величины очень большую выборку и построим для неё гистограмму. Очертания гистограммы будут напоминать плотность:"
   ]
  },
  {
   "cell_type": "code",
   "execution_count": 9,
   "metadata": {},
   "outputs": [
    {
     "data": {
      "image/png": "[encoded data removed]",
      "text/plain": [
       "<Figure size 432x288 with 1 Axes>"
      ]
     },
     "metadata": {
      "needs_background": "light"
     },
     "output_type": "display_data"
    }
   ],
   "source": [
    "# выборка в 10000 наблюдений из Y\n",
    "# по вертикальной оси значения плотности, не просто частоты (density=True)\n",
    "# четыре столбца для меньшей детализации (bins = 4)\n",
    "\n",
    "r = Y.rvs(size = 10000)\n",
    "plt.hist(r, color = \"tomato\", edgecolor = \"black\", density=True, bins = 4);"
   ]
  },
  {
   "cell_type": "markdown",
   "metadata": {},
   "source": [
    "Явно видно, что распредение `Y` не является нормальным. Чтобы будет, если мы извлечём из `Y` 1000 выборок размера $N=100$ и посчитаем по ним средние?"
   ]
  },
  {
   "cell_type": "code",
   "execution_count": 10,
   "metadata": {},
   "outputs": [
    {
     "data": {
      "image/png": "[encoded data removed]",
      "text/plain": [
       "<Figure size 432x288 with 1 Axes>"
      ]
     },
     "metadata": {
      "needs_background": "light"
     },
     "output_type": "display_data"
    }
   ],
   "source": [
    "unif_means100 = []\n",
    "\n",
    "for i in range(1, 1001):\n",
    "    sample = Y.rvs(size = 100)\n",
    "    mean = sample.mean()\n",
    "    unif_means100.append(mean)\n",
    "    \n",
    "plt.hist(unif_means100, color = \"tomato\", edgecolor = \"black\");"
   ]
  },
  {
   "cell_type": "markdown",
   "metadata": {},
   "source": [
    "А вот средние уже имеют нормальное распределение! Почему диапазон значений на гистограмме примерно от 36 до 44? Снова применим центральную предельную теорему и правило трёх сигм! \n",
    "\n",
    "В самом начале этого примера мы вычислили математическое ожидание `Y` и его стандартное отклонение, $a = 40$, $\\sigma = 11.55$. Значит, по теореме:\n",
    "\n",
    "\n",
    "$$\n",
    "\\bar{x} \\sim N(a = 40, \\sigma = \\frac{11.55}{\\sqrt{100}})\n",
    "$$\n",
    "$$\n",
    "\\bar{x} \\sim N(a = 40, \\sigma = 1.155)\n",
    "$$\n",
    "\n",
    "И тогда, если мы отклонимся от среднего 40 на три стандартных отклонения, на три сигмы, мы получим:\n",
    "\n",
    "$$\n",
    "[40 - 3 \\times 1.155; 40 + 3 \\times 1.155]\n",
    "$$\n",
    "\n",
    "$$\n",
    "[36.535; 43.465]\n",
    "$$\n",
    "\n",
    "Всё сходится! Теорема, как всегда, работает :)"
   ]
  }
 ],
 "metadata": {
  "kernelspec": {
   "display_name": "Python 3",
   "language": "python",
   "name": "python3"
  },
  "language_info": {
   "codemirror_mode": {
    "name": "ipython",
    "version": 3
   },
   "file_extension": ".py",
   "mimetype": "text/x-python",
   "name": "python",
   "nbconvert_exporter": "python",
   "pygments_lexer": "ipython3",
   "version": "3.7.4"
  }
 },
 "nbformat": 4,
 "nbformat_minor": 2
}
